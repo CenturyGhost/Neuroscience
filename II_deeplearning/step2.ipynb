{
 "cells": [
  {
   "cell_type": "markdown",
   "metadata": {},
   "source": [
    "# Deep Learning"
   ]
  },
  {
   "cell_type": "markdown",
   "metadata": {},
   "source": [
    "# Utilizing Apache Spark and PySpark for Deep Learning in Neuroimaging Studies\n",
    "\n",
    "## Why Spark?\n",
    "\n",
    "- **Efficient Large Data Handling:**\n",
    "   - Spark is designed for fast computation and handling big datasets, essential for neuroimaging data.\n",
    "\n",
    "- **PySpark - Python Integration:**\n",
    "   - PySpark provides a Python interface to Spark, making it easier to implement deep learning algorithms using Python libraries.\n",
    "\n",
    "- **Distributed Computing:**\n",
    "   - Spark's distributed nature allows for parallel processing, speeding up the deep learning tasks.\n",
    "\n",
    "- **MLlib for Machine Learning:**\n",
    "   - Spark's MLlib offers machine learning algorithms optimized for big data, which we can leverage for our deep learning models.\n",
    "\n",
    "## Advantages:\n",
    "\n",
    "- Spark handles our complex and large participant data efficiently.\n",
    "- PySpark allows seamless integration with Python's deep learning libraries.\n",
    "- Distributed processing capability accelerates our deep learning computations.\n",
    "- Scalability ensures that our system can grow with our data needs.\n",
    "\n",
    "In summary, Apache Spark and PySpark provide a robust, scalable, and efficient platform for deep learning in our neuroimaging study, enabling us to process large datasets with speed and ease.\n"
   ]
  },
  {
   "cell_type": "markdown",
   "metadata": {},
   "source": [
    "## 1 - Setting up Spark cluster"
   ]
  },
  {
   "cell_type": "code",
   "execution_count": 6,
   "metadata": {},
   "outputs": [],
   "source": [
    "from pyspark.sql import SparkSession\n",
    "spark = SparkSession.builder.master(\"local[*]\").appName(\"PySpark_VSCode\").getOrCreate()\n"
   ]
  },
  {
   "cell_type": "code",
   "execution_count": 7,
   "metadata": {},
   "outputs": [],
   "source": [
    "import pandas as pd\n",
    "from tensorflow import keras\n",
    "from tensorflow.keras import models\n",
    "from keras.models import Model\n",
    "from tensorflow.keras.models import Sequential\n",
    "from tensorflow.keras.layers import Dense, Dropout, Input\n"
   ]
  },
  {
   "cell_type": "code",
   "execution_count": 8,
   "metadata": {},
   "outputs": [],
   "source": [
    "combined_df = pd.read_csv('/home/skander/combined.csv')"
   ]
  },
  {
   "cell_type": "code",
   "execution_count": 9,
   "metadata": {},
   "outputs": [],
   "source": [
    "\n",
    "# Set 'participant_id' as index\n",
    "combined_df_with_index = combined_df.set_index('participant_id')\n",
    "\n",
    "# Extract features for pattern discovery\n",
    "features = combined_df_with_index  # All columns except 'participant_id'\n",
    "\n",
    "# Now features DataFrame is ready for unsupervised learning techniques\n",
    "\n"
   ]
  },
  {
   "cell_type": "markdown",
   "metadata": {},
   "source": [
    "## 2 - Neuron layer"
   ]
  },
  {
   "cell_type": "code",
   "execution_count": 11,
   "metadata": {},
   "outputs": [
    {
     "name": "stdout",
     "output_type": "stream",
     "text": [
      "Epoch 1/50\n"
     ]
    },
    {
     "name": "stderr",
     "output_type": "stream",
     "text": [
      "2024-02-01 09:00:40.486215: I external/local_xla/xla/stream_executor/cuda/cuda_executor.cc:901] successful NUMA node read from SysFS had negative value (-1), but there must be at least one NUMA node, so returning NUMA node zero. See more at https://github.com/torvalds/linux/blob/v6.0/Documentation/ABI/testing/sysfs-bus-pci#L344-L355\n",
      "2024-02-01 09:00:40.585502: W tensorflow/core/common_runtime/gpu/gpu_device.cc:2256] Cannot dlopen some GPU libraries. Please make sure the missing libraries mentioned above are installed properly if you would like to use GPU. Follow the guide at https://www.tensorflow.org/install/gpu for how to download and setup the required libraries for your platform.\n",
      "Skipping registering GPU devices...\n"
     ]
    },
    {
     "name": "stdout",
     "output_type": "stream",
     "text": [
      "1/1 [==============================] - 0s 207ms/step - loss: 3.8192\n",
      "Epoch 2/50\n",
      "1/1 [==============================] - 0s 2ms/step - loss: 2.1674\n",
      "Epoch 3/50\n",
      "1/1 [==============================] - 0s 1ms/step - loss: 0.5199\n",
      "Epoch 4/50\n",
      "1/1 [==============================] - 0s 1ms/step - loss: -1.1258\n",
      "Epoch 5/50\n",
      "1/1 [==============================] - 0s 1ms/step - loss: -2.7679\n",
      "Epoch 6/50\n",
      "1/1 [==============================] - 0s 1ms/step - loss: -4.4042\n",
      "Epoch 7/50\n",
      "1/1 [==============================] - 0s 2ms/step - loss: -6.0364\n",
      "Epoch 8/50\n",
      "1/1 [==============================] - 0s 1ms/step - loss: -7.6663\n",
      "Epoch 9/50\n",
      "1/1 [==============================] - 0s 2ms/step - loss: -9.2947\n",
      "Epoch 10/50\n",
      "1/1 [==============================] - 0s 1ms/step - loss: -10.9216\n",
      "Epoch 11/50\n",
      "1/1 [==============================] - 0s 1ms/step - loss: -12.5484\n",
      "Epoch 12/50\n",
      "1/1 [==============================] - 0s 1ms/step - loss: -14.1733\n",
      "Epoch 13/50\n",
      "1/1 [==============================] - 0s 1ms/step - loss: -15.7979\n",
      "Epoch 14/50\n",
      "1/1 [==============================] - 0s 992us/step - loss: -17.4235\n",
      "Epoch 15/50\n",
      "1/1 [==============================] - 0s 1ms/step - loss: -19.0468\n",
      "Epoch 16/50\n",
      "1/1 [==============================] - 0s 1ms/step - loss: -20.6697\n",
      "Epoch 17/50\n",
      "1/1 [==============================] - 0s 1ms/step - loss: -22.2937\n",
      "Epoch 18/50\n",
      "1/1 [==============================] - 0s 1000us/step - loss: -23.9198\n",
      "Epoch 19/50\n",
      "1/1 [==============================] - 0s 1ms/step - loss: -25.5493\n",
      "Epoch 20/50\n",
      "1/1 [==============================] - 0s 2ms/step - loss: -27.1805\n",
      "Epoch 21/50\n",
      "1/1 [==============================] - 0s 2ms/step - loss: -28.8140\n",
      "Epoch 22/50\n",
      "1/1 [==============================] - 0s 1ms/step - loss: -30.4513\n",
      "Epoch 23/50\n",
      "1/1 [==============================] - 0s 1ms/step - loss: -32.0910\n",
      "Epoch 24/50\n",
      "1/1 [==============================] - 0s 1ms/step - loss: -33.7341\n",
      "Epoch 25/50\n",
      "1/1 [==============================] - 0s 1ms/step - loss: -35.3805\n",
      "Epoch 26/50\n",
      "1/1 [==============================] - 0s 1ms/step - loss: -37.0299\n",
      "Epoch 27/50\n",
      "1/1 [==============================] - 0s 1ms/step - loss: -38.6838\n",
      "Epoch 28/50\n",
      "1/1 [==============================] - 0s 1ms/step - loss: -40.3427\n",
      "Epoch 29/50\n",
      "1/1 [==============================] - 0s 1ms/step - loss: -42.0066\n",
      "Epoch 30/50\n",
      "1/1 [==============================] - 0s 990us/step - loss: -43.6748\n",
      "Epoch 31/50\n",
      "1/1 [==============================] - 0s 1ms/step - loss: -45.3486\n",
      "Epoch 32/50\n",
      "1/1 [==============================] - 0s 1ms/step - loss: -47.0289\n",
      "Epoch 33/50\n",
      "1/1 [==============================] - 0s 3ms/step - loss: -48.7156\n",
      "Epoch 34/50\n",
      "1/1 [==============================] - 0s 2ms/step - loss: -50.4091\n",
      "Epoch 35/50\n",
      "1/1 [==============================] - 0s 2ms/step - loss: -52.1075\n",
      "Epoch 36/50\n",
      "1/1 [==============================] - 0s 2ms/step - loss: -53.8129\n",
      "Epoch 37/50\n",
      "1/1 [==============================] - 0s 2ms/step - loss: -55.5253\n",
      "Epoch 38/50\n",
      "1/1 [==============================] - 0s 2ms/step - loss: -57.2442\n",
      "Epoch 39/50\n",
      "1/1 [==============================] - 0s 2ms/step - loss: -58.9697\n",
      "Epoch 40/50\n",
      "1/1 [==============================] - 0s 2ms/step - loss: -60.7035\n",
      "Epoch 41/50\n",
      "1/1 [==============================] - 0s 1ms/step - loss: -62.4459\n",
      "Epoch 42/50\n",
      "1/1 [==============================] - 0s 2ms/step - loss: -64.1968\n",
      "Epoch 43/50\n",
      "1/1 [==============================] - 0s 2ms/step - loss: -65.9549\n",
      "Epoch 44/50\n",
      "1/1 [==============================] - 0s 2ms/step - loss: -67.7201\n",
      "Epoch 45/50\n",
      "1/1 [==============================] - 0s 2ms/step - loss: -69.4940\n",
      "Epoch 46/50\n",
      "1/1 [==============================] - 0s 1ms/step - loss: -71.2777\n",
      "Epoch 47/50\n",
      "1/1 [==============================] - 0s 1ms/step - loss: -73.0713\n",
      "Epoch 48/50\n",
      "1/1 [==============================] - 0s 1ms/step - loss: -74.8744\n",
      "Epoch 49/50\n",
      "1/1 [==============================] - 0s 1ms/step - loss: -76.6869\n",
      "Epoch 50/50\n",
      "1/1 [==============================] - 0s 1ms/step - loss: -78.5089\n"
     ]
    },
    {
     "data": {
      "text/plain": [
       "<keras.src.callbacks.History at 0x7fed042e5d20>"
      ]
     },
     "execution_count": 11,
     "metadata": {},
     "output_type": "execute_result"
    }
   ],
   "source": [
    "# Adjust the input dimension to match the number of features in your dataset\n",
    "input_dim = features.shape[1]  # Number of features\n",
    "\n",
    "# Define the size of the encoded representations\n",
    "encoding_dim = 32  # experiment with this value\n",
    "\n",
    "# Input layer\n",
    "input_layer = Input(shape=(input_dim,))\n",
    "\n",
    "# Encoded layer - where the data is compressed\n",
    "encoded = Dense(encoding_dim, activation='relu')(input_layer)\n",
    "\n",
    "# Decoded layer - reconstruction of the input\n",
    "decoded = Dense(input_dim, activation='sigmoid')(encoded)\n",
    "\n",
    "# Autoencoder model\n",
    "autoencoder = Model(input_layer, decoded)\n",
    "\n",
    "# Compile the model\n",
    "autoencoder.compile(optimizer='adam', loss='binary_crossentropy')\n",
    "\n",
    "# Train the autoencoder\n",
    "autoencoder.fit(features, features,  # Input and output are the same for an autoencoder\n",
    "                epochs=50,          # Number of epochs\n",
    "                batch_size=256,     # Batch size\n",
    "                shuffle=True)       # Shuffle the data"
   ]
  }
 ],
 "metadata": {
  "kernelspec": {
   "display_name": "venv",
   "language": "python",
   "name": "python3"
  },
  "language_info": {
   "codemirror_mode": {
    "name": "ipython",
    "version": 3
   },
   "file_extension": ".py",
   "mimetype": "text/x-python",
   "name": "python",
   "nbconvert_exporter": "python",
   "pygments_lexer": "ipython3",
   "version": "3.10.12"
  }
 },
 "nbformat": 4,
 "nbformat_minor": 2
}
